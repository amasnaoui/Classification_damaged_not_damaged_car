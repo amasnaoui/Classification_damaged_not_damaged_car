{
  "cells": [
    {
      "cell_type": "markdown",
      "metadata": {
        "id": "view-in-github",
        "colab_type": "text"
      },
      "source": [
        "<a href=\"https://colab.research.google.com/github/amasnaoui/Classification_damaged_not_damaged_car/blob/main/90_VGG16classification_damage_car.ipynb\" target=\"_parent\"><img src=\"https://colab.research.google.com/assets/colab-badge.svg\" alt=\"Open In Colab\"/></a>"
      ]
    },
    {
      "cell_type": "code",
      "execution_count": null,
      "metadata": {
        "id": "WzdvX1xjrhpM"
      },
      "outputs": [],
      "source": [
        "import os\n",
        "import cv2\n",
        "from PIL import Image\n",
        "import tensorflow as tf\n",
        "from keras import backend as K\n",
        "from keras.models import load_model\n",
        "from keras.preprocessing.image import img_to_array\n",
        "from tensorflow.keras.optimizers import Adam, RMSprop\n",
        "from tensorflow.keras.callbacks import ReduceLROnPlateau\n",
        "from tensorflow.keras.preprocessing.image import ImageDataGenerator\n",
        "import tensorflow.keras.applications\n",
        "from keras.applications.vgg16 import VGG16\n",
        "from keras.applications.vgg16 import preprocess_input"
      ]
    },
    {
      "cell_type": "code",
      "execution_count": null,
      "metadata": {
        "id": "PdiKC2q1riSL"
      },
      "outputs": [],
      "source": [
        "base_dir = '/content/drive/MyDrive/new_cars_dataset/'\n",
        "train_dir = '/content/drive/MyDrive/new_cars_dataset/training/'\n",
        "train_damage_dir = '/content/drive/MyDrive/new_cars_dataset/training/00-damage/'\n",
        "train_whole_dir = '/content/drive/MyDrive/new_cars_dataset/training/01-whole/'\n",
        "test_dir = '/content/drive/MyDrive/new_cars_dataset/test/'\n",
        "test_damage_dir = '/content/drive/MyDrive/new_cars_dataset/test/00-damage/'\n",
        "test_whole_dir = '/content/drive/MyDrive/new_cars_dataset/test/01-whole/'\n",
        "valid_dir = '/content/drive/MyDrive/new_cars_dataset/validation/'\n",
        "valid_damage_dir = '/content/drive/MyDrive/new_cars_dataset/validation/00-damage/'\n",
        "valid_whole_dir = '/content/drive/MyDrive/new_cars_dataset/validation/01-whole/'"
      ]
    },
    {
      "cell_type": "code",
      "execution_count": null,
      "metadata": {
        "id": "w95CjVREtnWQ"
      },
      "outputs": [],
      "source": [
        "num_damage_train = len(os.listdir(train_damage_dir))\n",
        "num_whole_train = len(os.listdir(train_whole_dir))\n",
        "num_damage_validaition = len(os.listdir(valid_damage_dir))\n",
        "num_whole_validation= len(os.listdir(valid_whole_dir))\n",
        "num_damage_test = len(os.listdir(test_damage_dir))\n",
        "num_whole_test= len(os.listdir(test_whole_dir))"
      ]
    },
    {
      "cell_type": "code",
      "execution_count": null,
      "metadata": {
        "colab": {
          "base_uri": "https://localhost:8080/"
        },
        "id": "KVzHj4qOuMt1",
        "outputId": "f2e9ae2d-e52c-4fe0-9aa6-67cbce7b0c85"
      },
      "outputs": [
        {
          "name": "stdout",
          "output_type": "stream",
          "text": [
            "Total Training damage Images 2016\n",
            "Total Training whole Images 2016\n",
            "--\n",
            "Total validation damage Images 320\n",
            "Total validation whole Images 320\n",
            "--\n",
            "Total Test damage Images 110\n",
            "Total Test whole Images 110\n",
            "Total Training Images 4032\n",
            "--\n",
            "Total Validation Images 640\n",
            "--\n",
            "Total Testing Images 220\n"
          ]
        }
      ],
      "source": [
        "print(\"Total Training damage Images\",num_damage_train)\n",
        "print(\"Total Training whole Images\",num_whole_train)\n",
        "print(\"--\")\n",
        "print(\"Total validation damage Images\",num_damage_validaition)\n",
        "print(\"Total validation whole Images\",num_whole_validation)\n",
        "print(\"--\")\n",
        "print(\"Total Test damage Images\", num_damage_test)\n",
        "print(\"Total Test whole Images\",num_whole_test)\n",
        "total_train = num_damage_train+num_whole_train\n",
        "total_validation = num_damage_validaition+num_whole_validation\n",
        "total_test = num_damage_test+num_whole_test\n",
        "print(\"Total Training Images\",total_train)\n",
        "print(\"--\")\n",
        "print(\"Total Validation Images\",total_validation)\n",
        "print(\"--\")\n",
        "print(\"Total Testing Images\",total_test)"
      ]
    },
    {
      "cell_type": "code",
      "execution_count": null,
      "metadata": {
        "id": "oeqbFI5QuwNi"
      },
      "outputs": [],
      "source": [
        "IMG_SHAPE  = 224\n",
        "batch_size = 32"
      ]
    },
    {
      "cell_type": "code",
      "execution_count": null,
      "metadata": {
        "colab": {
          "base_uri": "https://localhost:8080/"
        },
        "id": "92LKR0NGvSGG",
        "outputId": "d17290f2-a920-4d95-f3f4-745f8c7cec5f"
      },
      "outputs": [
        {
          "name": "stdout",
          "output_type": "stream",
          "text": [
            "Found 4032 images belonging to 2 classes.\n",
            "Found 640 images belonging to 2 classes.\n",
            "Found 220 images belonging to 2 classes.\n"
          ]
        }
      ],
      "source": [
        "image_gen_train = ImageDataGenerator(rescale = 1./255,\n",
        "                                   shear_range = 0.2,\n",
        "                                   zoom_range = 0.2,\n",
        "                                   horizontal_flip = True)\n",
        "train_data_gen = image_gen_train.flow_from_directory(batch_size = batch_size,\n",
        "                                                     directory = train_dir,\n",
        "                                                     shuffle= True,\n",
        "                                                     target_size = (IMG_SHAPE,IMG_SHAPE),\n",
        "                                                     class_mode = 'binary')\n",
        "\n",
        "image_generator_validation = ImageDataGenerator(rescale=1./255.)\n",
        "\n",
        "val_data_gen = image_generator_validation.flow_from_directory(batch_size=batch_size,\n",
        "                                                              directory=valid_dir,\n",
        "                                                              target_size=(IMG_SHAPE, IMG_SHAPE),\n",
        "                                                              class_mode='binary')\n",
        "\n",
        "image_gen_test = ImageDataGenerator(rescale=1./255.)\n",
        "\n",
        "test_data_gen = image_gen_test.flow_from_directory(batch_size=batch_size,\n",
        "                                                   directory=test_dir,\n",
        "                                                   target_size=(IMG_SHAPE, IMG_SHAPE),\n",
        "                                                   class_mode='binary')"
      ]
    },
    {
      "cell_type": "code",
      "execution_count": null,
      "metadata": {
        "colab": {
          "base_uri": "https://localhost:8080/"
        },
        "id": "yj8aJpHIv0CZ",
        "outputId": "fcbb4982-40fa-4b6f-9994-56939f233d97"
      },
      "outputs": [
        {
          "data": {
            "text/plain": [
              "{'00-damage': 0, '01-whole': 1}"
            ]
          },
          "execution_count": 13,
          "metadata": {},
          "output_type": "execute_result"
        }
      ],
      "source": [
        "train_data_gen.class_indices"
      ]
    },
    {
      "cell_type": "code",
      "execution_count": null,
      "metadata": {
        "colab": {
          "base_uri": "https://localhost:8080/"
        },
        "id": "0hsTbj1UwKOH",
        "outputId": "2f46ea20-795b-4196-b988-57aef2921a33"
      },
      "outputs": [
        {
          "name": "stdout",
          "output_type": "stream",
          "text": [
            "Downloading data from https://storage.googleapis.com/tensorflow/keras-applications/vgg16/vgg16_weights_tf_dim_ordering_tf_kernels_notop.h5\n",
            "58892288/58889256 [==============================] - 0s 0us/step\n",
            "58900480/58889256 [==============================] - 0s 0us/step\n"
          ]
        }
      ],
      "source": [
        "pre_trained_model = VGG16(input_shape=(224, 224, 3), include_top=False, weights=\"imagenet\")"
      ]
    },
    {
      "cell_type": "code",
      "execution_count": null,
      "metadata": {
        "colab": {
          "base_uri": "https://localhost:8080/"
        },
        "id": "-H-6CAdBwRf6",
        "outputId": "5a77735d-8ae8-4dee-ee2b-df4318c862d5"
      },
      "outputs": [
        {
          "name": "stdout",
          "output_type": "stream",
          "text": [
            "input_1\n",
            "block1_conv1\n",
            "block1_conv2\n",
            "block1_pool\n",
            "block2_conv1\n",
            "block2_conv2\n",
            "block2_pool\n",
            "block3_conv1\n",
            "block3_conv2\n",
            "block3_conv3\n",
            "block3_pool\n",
            "block4_conv1\n",
            "block4_conv2\n",
            "block4_conv3\n",
            "block4_pool\n",
            "block5_conv1\n",
            "block5_conv2\n",
            "block5_conv3\n",
            "block5_pool\n"
          ]
        }
      ],
      "source": [
        "for layer in pre_trained_model.layers:\n",
        "  print(layer.name)\n",
        "  layer.trainable = False"
      ]
    },
    {
      "cell_type": "code",
      "execution_count": null,
      "metadata": {
        "id": "vG1uq_urwXbu"
      },
      "outputs": [],
      "source": [
        "# last_layer = pre_trained_model.get_layer('block5_pool')\n",
        "# last_output = last_layer.output\n",
        "# x = tf.keras.layers.GlobalMaxPooling2D()(last_output)\n",
        "# x = tf.keras.layers.Dense(512, activation='relu')(x)\n",
        "# x = tf.keras.layers.Dropout(0.5)(x)\n",
        "# x = tf.keras.layers.Dense(2, activation='sigmoid')(x)"
      ]
    },
    {
      "cell_type": "code",
      "execution_count": null,
      "metadata": {
        "id": "aXaaXhiZSC5R"
      },
      "outputs": [],
      "source": [
        "# useful for getting number of classes\n",
        "from glob import glob\n",
        "folders = glob('/content/drive/MyDrive/new_cars_dataset/training/*')"
      ]
    },
    {
      "cell_type": "code",
      "execution_count": null,
      "metadata": {
        "id": "Ox73CHoS49dT"
      },
      "outputs": [],
      "source": [
        "from tensorflow.keras import Model\n",
        "from tensorflow.keras import layers\n",
        "# Flatten the output layer to 1 dimension\n",
        "x = layers.Flatten()(pre_trained_model.output)\n",
        "# Add fully connected layer with 1,024 hidden units and ReLU activation\n",
        "x = layers.Dense(1024,activation='relu')(x)\n",
        "# Add a DropOut rate of 0.2\n",
        "x = layers.Dropout(0.2)(x)\n",
        "# Add a final sigmoid layer for classification\n",
        "# x = layers.Dense(2,activation='sigmoid')(x)\n",
        "x = layers.Dense(2, activation='softmax')(x)\n",
        "\n",
        "model = Model(pre_trained_model.input, x)\n",
        "\n",
        "model.compile(optimizer=Adam(learning_rate=0.0001),\n",
        "              loss = tf.keras.losses.SparseCategoricalCrossentropy(from_logits=True),\n",
        "              metrics=['accuracy'])"
      ]
    },
    {
      "cell_type": "code",
      "execution_count": null,
      "metadata": {
        "id": "J8amh60GwmEI"
      },
      "outputs": [],
      "source": [
        "# model = tf.keras.Model(pre_trained_model.input, x)"
      ]
    },
    {
      "cell_type": "code",
      "execution_count": null,
      "metadata": {
        "id": "L8D8o5n0woLC"
      },
      "outputs": [],
      "source": [
        "# model.compile(optimizer='adam', loss=tf.keras.losses.sparse_categorical_crossentropy, metrics=['acc'])"
      ]
    },
    {
      "cell_type": "code",
      "execution_count": null,
      "metadata": {
        "id": "08LBapz__snx"
      },
      "outputs": [],
      "source": [
        "# class myCallback(tf.keras.callbacks.Callback):\n",
        "#   def on_epoch_end(self, epoch, logs={}) :\n",
        "#     if (logs.get('acc')>0.959):\n",
        "#       print(\"\\nReached 99.9% accuracy so cancelling training!\")\n",
        "#       self.model.stop_training = True"
      ]
    },
    {
      "cell_type": "code",
      "execution_count": null,
      "metadata": {
        "colab": {
          "base_uri": "https://localhost:8080/"
        },
        "id": "LkdOcT-Y_dMb",
        "outputId": "8fd1bd54-b66a-4be2-b699-1a0050eb7897"
      },
      "outputs": [
        {
          "name": "stdout",
          "output_type": "stream",
          "text": [
            "Epoch 1/20\n"
          ]
        },
        {
          "name": "stderr",
          "output_type": "stream",
          "text": [
            "/usr/local/lib/python3.7/dist-packages/tensorflow/python/util/dispatch.py:1082: UserWarning: \"`sparse_categorical_crossentropy` received `from_logits=True`, but the `output` argument was produced by a sigmoid or softmax activation and thus does not represent logits. Was this intended?\"\n",
            "  return dispatch_target(*args, **kwargs)\n"
          ]
        },
        {
          "name": "stdout",
          "output_type": "stream",
          "text": [
            "126/126 [==============================] - 72s 566ms/step - loss: 0.4015 - accuracy: 0.8457 - val_loss: 0.2242 - val_accuracy: 0.9109\n",
            "Epoch 2/20\n",
            "126/126 [==============================] - 70s 552ms/step - loss: 0.2108 - accuracy: 0.9144 - val_loss: 0.1711 - val_accuracy: 0.9312\n",
            "Epoch 3/20\n",
            "126/126 [==============================] - 70s 558ms/step - loss: 0.1785 - accuracy: 0.9276 - val_loss: 0.2040 - val_accuracy: 0.9266\n",
            "Epoch 4/20\n",
            "126/126 [==============================] - 69s 547ms/step - loss: 0.1710 - accuracy: 0.9311 - val_loss: 0.1610 - val_accuracy: 0.9375\n",
            "Epoch 5/20\n",
            "126/126 [==============================] - 70s 558ms/step - loss: 0.1411 - accuracy: 0.9444 - val_loss: 0.1611 - val_accuracy: 0.9406\n",
            "Epoch 6/20\n",
            "126/126 [==============================] - 69s 548ms/step - loss: 0.1276 - accuracy: 0.9509 - val_loss: 0.1774 - val_accuracy: 0.9453\n",
            "Epoch 7/20\n",
            " 83/126 [==================>...........] - ETA: 21s - loss: 0.1366 - accuracy: 0.9443"
          ]
        }
      ],
      "source": [
        "# callbacks = myCallback()\n",
        "history = model.fit(\n",
        "    train_data_gen,\n",
        "    steps_per_epoch=(total_train//batch_size),\n",
        "    epochs = 20,\n",
        "    validation_data=val_data_gen,\n",
        "    validation_steps=(total_validation//batch_size),\n",
        "    batch_size = batch_size,\n",
        "    verbose = 1\n",
        ")"
      ]
    },
    {
      "cell_type": "code",
      "execution_count": null,
      "metadata": {
        "id": "VfmAoYm5wsJA"
      },
      "outputs": [],
      "source": [
        "# vgg_classifier = model.fit(train_data_gen,\n",
        "#                            steps_per_epoch=(total_train//batch_size),\n",
        "#                            epochs = 20,\n",
        "#                            validation_data=val_data_gen,\n",
        "#                            validation_steps=(total_validation//batch_size),\n",
        "#                            batch_size = batch_size,\n",
        "#                            verbose = 1)"
      ]
    },
    {
      "cell_type": "code",
      "execution_count": null,
      "metadata": {
        "id": "1HpY3vGOxPss"
      },
      "outputs": [],
      "source": [
        "result = model.evaluate(test_data_gen,batch_size=batch_size)\n",
        "print(\"test_loss, test accuracy\",result)"
      ]
    },
    {
      "cell_type": "code",
      "execution_count": null,
      "metadata": {
        "colab": {
          "background_save": true
        },
        "id": "nnfbYCGA0Mun"
      },
      "outputs": [],
      "source": [
        "from keras.preprocessing import image\n",
        "import matplotlib.pyplot as plt\n",
        "import numpy as np\n",
        "\n",
        "dir_path = '/content/drive/MyDrive/test/'\n",
        "\n",
        "for i in os.listdir(dir_path):\n",
        "  img = image.load_img(dir_path + '//' + i, target_size=(224,224))\n",
        "  plt.imshow(img)\n",
        "  plt.show()\n",
        "\n",
        "  X = image.img_to_array(img)\n",
        "  X = np.expand_dims(X,axis=0)\n",
        "  images = np.vstack([X])\n",
        "  val = model.predict(images)\n",
        "  if np.argmax(val) == 0 :\n",
        "    print(\"damaged car\")\n",
        "  else :\n",
        "    print(\"Not damaged car\")"
      ]
    },
    {
      "cell_type": "code",
      "execution_count": null,
      "metadata": {
        "id": "SJ9iBa3bRQcl"
      },
      "outputs": [],
      "source": [
        ""
      ]
    }
  ],
  "metadata": {
    "accelerator": "GPU",
    "colab": {
      "name": "90% VGG16classification_damage_car.ipynb",
      "provenance": [],
      "mount_file_id": "1vc7ajhS_MowCO77dV6iqHjnf7GJFg1Rl",
      "authorship_tag": "ABX9TyMz9jZam0zE9i1fIXdG7chJ",
      "include_colab_link": true
    },
    "gpuClass": "standard",
    "kernelspec": {
      "display_name": "Python 3",
      "name": "python3"
    },
    "language_info": {
      "name": "python"
    }
  },
  "nbformat": 4,
  "nbformat_minor": 0
}