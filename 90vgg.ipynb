{
  "nbformat": 4,
  "nbformat_minor": 0,
  "metadata": {
    "colab": {
      "name": "90vgg.ipynb",
      "provenance": [],
      "mount_file_id": "16KAjayXi6pqPt64YRRbIyurDslp4N9sx",
      "authorship_tag": "ABX9TyMl2bXkOMTYZK8dRqzYkyxf",
      "include_colab_link": true
    },
    "kernelspec": {
      "name": "python3",
      "display_name": "Python 3"
    },
    "language_info": {
      "name": "python"
    },
    "accelerator": "GPU",
    "gpuClass": "standard"
  },
  "cells": [
    {
      "cell_type": "markdown",
      "metadata": {
        "id": "view-in-github",
        "colab_type": "text"
      },
      "source": [
        "<a href=\"https://colab.research.google.com/github/amasnaoui/Classification_damaged_not_damaged_car/blob/main/90vgg.ipynb\" target=\"_parent\"><img src=\"https://colab.research.google.com/assets/colab-badge.svg\" alt=\"Open In Colab\"/></a>"
      ]
    },
    {
      "cell_type": "code",
      "execution_count": null,
      "metadata": {
        "id": "2oWHlVWR4_dl"
      },
      "outputs": [],
      "source": [
        "from keras.layers import Input, Lambda, Dense, Flatten\n",
        "from keras.models import Model\n",
        "from keras.applications.vgg16 import VGG16\n",
        "from keras.applications.vgg16 import preprocess_input\n",
        "from keras.preprocessing import image\n",
        "from keras.preprocessing.image import ImageDataGenerator\n",
        "from keras.models import Sequential\n",
        "import numpy as np\n",
        "from glob import glob\n",
        "import matplotlib.pyplot as plt"
      ]
    },
    {
      "cell_type": "code",
      "source": [
        "IMAGE_SIZE = [224, 224]"
      ],
      "metadata": {
        "id": "Gf4BDdup5FOC"
      },
      "execution_count": null,
      "outputs": []
    },
    {
      "cell_type": "code",
      "source": [
        "train_path = '/content/drive/MyDrive/new_cars_dataset/training/'\n",
        "valid_path = '/content/drive/MyDrive/new_cars_dataset/validation/'\n",
        "test_path = '/content/drive/MyDrive/new_cars_dataset/test/'"
      ],
      "metadata": {
        "id": "s4puU1yO5L-u"
      },
      "execution_count": null,
      "outputs": []
    },
    {
      "cell_type": "code",
      "source": [
        "# add preprocessing layer to the front of VGG\n",
        "vgg = VGG16(input_shape=IMAGE_SIZE + [3], weights='imagenet', include_top=False)"
      ],
      "metadata": {
        "colab": {
          "base_uri": "https://localhost:8080/"
        },
        "id": "2zwPqYwF5my9",
        "outputId": "ddcf64c4-5e52-46c3-ac67-88d6e8ad3b82"
      },
      "execution_count": null,
      "outputs": [
        {
          "output_type": "stream",
          "name": "stdout",
          "text": [
            "Downloading data from https://storage.googleapis.com/tensorflow/keras-applications/vgg16/vgg16_weights_tf_dim_ordering_tf_kernels_notop.h5\n",
            "58892288/58889256 [==============================] - 0s 0us/step\n",
            "58900480/58889256 [==============================] - 0s 0us/step\n"
          ]
        }
      ]
    },
    {
      "cell_type": "code",
      "source": [
        "# don't train existing weights\n",
        "for layer in vgg.layers:\n",
        "  layer.trainable = False"
      ],
      "metadata": {
        "id": "IWVGIydN5vPL"
      },
      "execution_count": null,
      "outputs": []
    },
    {
      "cell_type": "code",
      "source": [
        "  # useful for getting number of classes\n",
        "folders = glob('/content/drive/MyDrive/new_cars_dataset/training/*')"
      ],
      "metadata": {
        "id": "iHw8UGPd5w9l"
      },
      "execution_count": null,
      "outputs": []
    },
    {
      "cell_type": "code",
      "source": [
        "# our layers - you can add more if you want\n",
        "x = Flatten()(vgg.output)\n",
        "# x = Dense(1000, activation='relu')(x)\n",
        "# x = GlobalAveragePooling2D()(x)\n",
        "x = Dense(1024,activation='relu')(x)\n",
        "x = Dense(1024,activation='relu')(x)\n",
        "x = Dense(512,activation='relu')(x)\n",
        "# x = Dense(2,activation='softmax')(x)\n",
        "prediction = Dense(len(folders), activation='softmax')(x)"
      ],
      "metadata": {
        "id": "h4DYYv8S57bQ"
      },
      "execution_count": null,
      "outputs": []
    },
    {
      "cell_type": "code",
      "source": [
        "# create a model object\n",
        "model = Model(inputs=vgg.input, outputs=prediction)"
      ],
      "metadata": {
        "id": "yrNBYaw26uIZ"
      },
      "execution_count": null,
      "outputs": []
    },
    {
      "cell_type": "code",
      "source": [
        "# view the structure of the model\n",
        "model.summary()"
      ],
      "metadata": {
        "colab": {
          "base_uri": "https://localhost:8080/"
        },
        "id": "vfHU3OQS66Xl",
        "outputId": "a7fd5b8f-27d2-49ca-97af-73caba95a2d9"
      },
      "execution_count": null,
      "outputs": [
        {
          "output_type": "stream",
          "name": "stdout",
          "text": [
            "Model: \"model\"\n",
            "_________________________________________________________________\n",
            " Layer (type)                Output Shape              Param #   \n",
            "=================================================================\n",
            " input_1 (InputLayer)        [(None, 224, 224, 3)]     0         \n",
            "                                                                 \n",
            " block1_conv1 (Conv2D)       (None, 224, 224, 64)      1792      \n",
            "                                                                 \n",
            " block1_conv2 (Conv2D)       (None, 224, 224, 64)      36928     \n",
            "                                                                 \n",
            " block1_pool (MaxPooling2D)  (None, 112, 112, 64)      0         \n",
            "                                                                 \n",
            " block2_conv1 (Conv2D)       (None, 112, 112, 128)     73856     \n",
            "                                                                 \n",
            " block2_conv2 (Conv2D)       (None, 112, 112, 128)     147584    \n",
            "                                                                 \n",
            " block2_pool (MaxPooling2D)  (None, 56, 56, 128)       0         \n",
            "                                                                 \n",
            " block3_conv1 (Conv2D)       (None, 56, 56, 256)       295168    \n",
            "                                                                 \n",
            " block3_conv2 (Conv2D)       (None, 56, 56, 256)       590080    \n",
            "                                                                 \n",
            " block3_conv3 (Conv2D)       (None, 56, 56, 256)       590080    \n",
            "                                                                 \n",
            " block3_pool (MaxPooling2D)  (None, 28, 28, 256)       0         \n",
            "                                                                 \n",
            " block4_conv1 (Conv2D)       (None, 28, 28, 512)       1180160   \n",
            "                                                                 \n",
            " block4_conv2 (Conv2D)       (None, 28, 28, 512)       2359808   \n",
            "                                                                 \n",
            " block4_conv3 (Conv2D)       (None, 28, 28, 512)       2359808   \n",
            "                                                                 \n",
            " block4_pool (MaxPooling2D)  (None, 14, 14, 512)       0         \n",
            "                                                                 \n",
            " block5_conv1 (Conv2D)       (None, 14, 14, 512)       2359808   \n",
            "                                                                 \n",
            " block5_conv2 (Conv2D)       (None, 14, 14, 512)       2359808   \n",
            "                                                                 \n",
            " block5_conv3 (Conv2D)       (None, 14, 14, 512)       2359808   \n",
            "                                                                 \n",
            " block5_pool (MaxPooling2D)  (None, 7, 7, 512)         0         \n",
            "                                                                 \n",
            " flatten_1 (Flatten)         (None, 25088)             0         \n",
            "                                                                 \n",
            " dense (Dense)               (None, 1024)              25691136  \n",
            "                                                                 \n",
            " dense_1 (Dense)             (None, 1024)              1049600   \n",
            "                                                                 \n",
            " dense_2 (Dense)             (None, 512)               524800    \n",
            "                                                                 \n",
            " dense_3 (Dense)             (None, 2)                 1026      \n",
            "                                                                 \n",
            "=================================================================\n",
            "Total params: 41,981,250\n",
            "Trainable params: 27,266,562\n",
            "Non-trainable params: 14,714,688\n",
            "_________________________________________________________________\n"
          ]
        }
      ]
    },
    {
      "cell_type": "code",
      "source": [
        "# tell the model what cost and optimization method to use\n",
        "model.compile(\n",
        "  loss='categorical_crossentropy',\n",
        "  optimizer='adam',\n",
        "  metrics=['accuracy']\n",
        ")"
      ],
      "metadata": {
        "id": "eJW2Ub3J68Hi"
      },
      "execution_count": null,
      "outputs": []
    },
    {
      "cell_type": "code",
      "source": [
        "from keras.preprocessing.image import ImageDataGenerator\n",
        "\n",
        "train_datagen = ImageDataGenerator(rescale=1./255,\n",
        "                                  rotation_range = 40,\n",
        "                                  width_shift_range = 0.2,\n",
        "                                  height_shift_range = 0.2,\n",
        "                                  shear_range = 0.2,\n",
        "                                  zoom_range = 0.2,\n",
        "                                  horizontal_flip = True)\n",
        "\n",
        "val_datagen = ImageDataGenerator(rescale = 1./255)\n",
        "\n",
        "testt_datagen = ImageDataGenerator(rescale = 1./255)\n",
        "\n",
        "training_set = train_datagen.flow_from_directory('/content/drive/MyDrive/new_cars_dataset/training/',\n",
        "                                                 target_size = (224, 224),\n",
        "                                                 batch_size = 32,\n",
        "                                                 class_mode = 'categorical')\n",
        "\n",
        "val_set = val_datagen.flow_from_directory('/content/drive/MyDrive/new_cars_dataset/validation/',\n",
        "                                            target_size = (224, 224),\n",
        "                                            batch_size = 32,\n",
        "                                            class_mode = 'categorical')\n",
        "\n",
        "testt_set = testt_datagen.flow_from_directory('/content/drive/MyDrive/new_cars_dataset/test/',\n",
        "                                            target_size = (224, 224),\n",
        "                                            batch_size = 32,\n",
        "                                            class_mode = 'categorical')"
      ],
      "metadata": {
        "colab": {
          "base_uri": "https://localhost:8080/"
        },
        "id": "s2-otEce7EJV",
        "outputId": "3051505d-581d-46a9-fb6e-9ab96ac948bc"
      },
      "execution_count": null,
      "outputs": [
        {
          "output_type": "stream",
          "name": "stdout",
          "text": [
            "Found 4032 images belonging to 2 classes.\n",
            "Found 640 images belonging to 2 classes.\n",
            "Found 220 images belonging to 2 classes.\n"
          ]
        }
      ]
    },
    {
      "cell_type": "code",
      "source": [
        "# fit the model\n",
        "r = model.fit(\n",
        "  training_set,\n",
        "  validation_data=val_set,\n",
        "  epochs=20,\n",
        "  steps_per_epoch=len(training_set),\n",
        "  validation_steps=len(val_set),\n",
        "  verbose = 1\n",
        ")"
      ],
      "metadata": {
        "colab": {
          "base_uri": "https://localhost:8080/"
        },
        "id": "MPsEr1qW7vQI",
        "outputId": "fe715050-b9d0-40a3-ae27-aa4b43210b10"
      },
      "execution_count": null,
      "outputs": [
        {
          "output_type": "stream",
          "name": "stdout",
          "text": [
            "Epoch 1/20\n",
            "126/126 [==============================] - 72s 558ms/step - loss: 0.3173 - accuracy: 0.8708 - val_loss: 0.1628 - val_accuracy: 0.9453\n",
            "Epoch 2/20\n",
            "126/126 [==============================] - 71s 566ms/step - loss: 0.2528 - accuracy: 0.8963 - val_loss: 0.1677 - val_accuracy: 0.9359\n",
            "Epoch 3/20\n",
            "126/126 [==============================] - 71s 567ms/step - loss: 0.2376 - accuracy: 0.9025 - val_loss: 0.1733 - val_accuracy: 0.9344\n",
            "Epoch 4/20\n",
            "126/126 [==============================] - 71s 567ms/step - loss: 0.2280 - accuracy: 0.9065 - val_loss: 0.1552 - val_accuracy: 0.9375\n",
            "Epoch 5/20\n",
            "126/126 [==============================] - 70s 556ms/step - loss: 0.2127 - accuracy: 0.9177 - val_loss: 0.1491 - val_accuracy: 0.9375\n",
            "Epoch 6/20\n",
            "126/126 [==============================] - 71s 566ms/step - loss: 0.2092 - accuracy: 0.9172 - val_loss: 0.1613 - val_accuracy: 0.9359\n",
            "Epoch 7/20\n",
            "126/126 [==============================] - 71s 566ms/step - loss: 0.2038 - accuracy: 0.9129 - val_loss: 0.1743 - val_accuracy: 0.9312\n",
            "Epoch 8/20\n",
            "126/126 [==============================] - 72s 572ms/step - loss: 0.2078 - accuracy: 0.9172 - val_loss: 0.1498 - val_accuracy: 0.9359\n",
            "Epoch 9/20\n",
            "126/126 [==============================] - 70s 557ms/step - loss: 0.2056 - accuracy: 0.9236 - val_loss: 0.1845 - val_accuracy: 0.9266\n",
            "Epoch 10/20\n",
            "126/126 [==============================] - 72s 575ms/step - loss: 0.1966 - accuracy: 0.9199 - val_loss: 0.1615 - val_accuracy: 0.9359\n",
            "Epoch 11/20\n",
            "126/126 [==============================] - 72s 568ms/step - loss: 0.1917 - accuracy: 0.9256 - val_loss: 0.1491 - val_accuracy: 0.9438\n",
            "Epoch 12/20\n",
            "126/126 [==============================] - 72s 570ms/step - loss: 0.1856 - accuracy: 0.9301 - val_loss: 0.1917 - val_accuracy: 0.9219\n",
            "Epoch 13/20\n",
            "126/126 [==============================] - 70s 558ms/step - loss: 0.2000 - accuracy: 0.9179 - val_loss: 0.1579 - val_accuracy: 0.9344\n",
            "Epoch 14/20\n",
            "126/126 [==============================] - 71s 566ms/step - loss: 0.1961 - accuracy: 0.9191 - val_loss: 0.1485 - val_accuracy: 0.9422\n",
            "Epoch 15/20\n",
            "126/126 [==============================] - 71s 567ms/step - loss: 0.1753 - accuracy: 0.9268 - val_loss: 0.1755 - val_accuracy: 0.9375\n",
            "Epoch 16/20\n",
            "126/126 [==============================] - 71s 566ms/step - loss: 0.1763 - accuracy: 0.9315 - val_loss: 0.1850 - val_accuracy: 0.9281\n",
            "Epoch 17/20\n",
            "126/126 [==============================] - 71s 559ms/step - loss: 0.1878 - accuracy: 0.9214 - val_loss: 0.1582 - val_accuracy: 0.9406\n",
            "Epoch 18/20\n",
            "126/126 [==============================] - 71s 566ms/step - loss: 0.1794 - accuracy: 0.9219 - val_loss: 0.1715 - val_accuracy: 0.9281\n",
            "Epoch 19/20\n",
            "126/126 [==============================] - 71s 566ms/step - loss: 0.1788 - accuracy: 0.9291 - val_loss: 0.2513 - val_accuracy: 0.9000\n",
            "Epoch 20/20\n",
            "126/126 [==============================] - 72s 567ms/step - loss: 0.1687 - accuracy: 0.9360 - val_loss: 0.1606 - val_accuracy: 0.9344\n"
          ]
        }
      ]
    },
    {
      "cell_type": "code",
      "source": [
        "# loss\n",
        "plt.plot(r.history['loss'], label='train loss')\n",
        "plt.plot(r.history['val_loss'], label='val loss')\n",
        "plt.legend()\n",
        "plt.show()\n",
        "plt.savefig('LossVal_loss')"
      ],
      "metadata": {
        "colab": {
          "base_uri": "https://localhost:8080/",
          "height": 286
        },
        "id": "X5caBCll75kL",
        "outputId": "48f88d46-97fe-4299-f9ad-153e60f57eb7"
      },
      "execution_count": null,
      "outputs": [
        {
          "output_type": "display_data",
          "data": {
            "text/plain": [
              "<Figure size 432x288 with 1 Axes>"
            ],
            "image/png": "[encoded data removed]"
          },
          "metadata": {
            "needs_background": "light"
          }
        },
        {
          "output_type": "display_data",
          "data": {
            "text/plain": [
              "<Figure size 432x288 with 0 Axes>"
            ]
          },
          "metadata": {}
        }
      ]
    },
    {
      "cell_type": "code",
      "source": [
        "# accuracies\n",
        "plt.plot(r.history['accuracy'], label='train acc')\n",
        "plt.plot(r.history['val_accuracy'], label='val acc')\n",
        "plt.legend()\n",
        "plt.show()\n",
        "plt.savefig('AccVal_acc')"
      ],
      "metadata": {
        "colab": {
          "base_uri": "https://localhost:8080/",
          "height": 282
        },
        "id": "NrUmxQ7eDsRc",
        "outputId": "b2e7d430-1cc6-4329-82e4-2db22ec2897b"
      },
      "execution_count": null,
      "outputs": [
        {
          "output_type": "display_data",
          "data": {
            "text/plain": [
              "<Figure size 432x288 with 1 Axes>"
            ],
            "image/png": "[encoded data removed]"
          },
          "metadata": {
            "needs_background": "light"
          }
        },
        {
          "output_type": "display_data",
          "data": {
            "text/plain": [
              "<Figure size 432x288 with 0 Axes>"
            ]
          },
          "metadata": {}
        }
      ]
    },
    {
      "cell_type": "code",
      "source": [
        "scores = model.evaluate(testt_set, verbose = 1)\n",
        "print(\"Accuracy : %.2f%%\" % (scores[1]*100))"
      ],
      "metadata": {
        "colab": {
          "base_uri": "https://localhost:8080/"
        },
        "id": "sAUCAmqEDu8u",
        "outputId": "8339a251-5470-4c52-eacc-5501da7de7d8"
      },
      "execution_count": null,
      "outputs": [
        {
          "output_type": "stream",
          "name": "stdout",
          "text": [
            "7/7 [==============================] - 2s 204ms/step - loss: 0.2919 - accuracy: 0.9045\n",
            "Accuracy : 90.45%\n"
          ]
        }
      ]
    },
    {
      "cell_type": "code",
      "source": [
        "#weights saving\n",
        "model.save(\"/content/drive/MyDrive/new_cars_dataset/models/90%_vgg16_classifier.h5\")"
      ],
      "metadata": {
        "id": "hJbapZScEHHh"
      },
      "execution_count": null,
      "outputs": []
    },
    {
      "cell_type": "code",
      "source": [
        "from keras.models import load_model\n",
        "model = load_model(\"/content/drive/MyDrive/models/90%_vgg16_classifier.h5\")"
      ],
      "metadata": {
        "id": "-XsCMTSQSDxv"
      },
      "execution_count": null,
      "outputs": []
    },
    {
      "cell_type": "code",
      "source": [
        "import os\n",
        "dir_path = '/content/drive/MyDrive/test/'\n",
        "\n",
        "for i in os.listdir(dir_path):\n",
        "  img = image.load_img(dir_path + '//' + i, target_size=(224,224))\n",
        "  plt.imshow(img)\n",
        "  plt.show()\n",
        "\n",
        "  X = image.img_to_array(img)\n",
        "  X = np.expand_dims(X,axis=0)\n",
        "  images = np.vstack([X])\n",
        "  val = model.predict(images)\n",
        "  if np.argmax(val) == 0 :\n",
        "    print(\"damaged car\")\n",
        "  else :\n",
        "    print(\"Not damaged car\")"
      ],
      "metadata": {
        "id": "RPftknUbKi-C"
      },
      "execution_count": null,
      "outputs": []
    },
    {
      "cell_type": "code",
      "source": [
        ""
      ],
      "metadata": {
        "id": "J3fomkILKpyh"
      },
      "execution_count": null,
      "outputs": []
    }
  ]
}